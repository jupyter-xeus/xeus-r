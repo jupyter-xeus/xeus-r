{
 "cells": [
  {
   "cell_type": "markdown",
   "metadata": {},
   "source": [
    "<center>\n",
    "    <h1>R kernel based on xeus</h1>\n",
    "</center>"
   ]
  },
  {
   "cell_type": "markdown",
   "metadata": {},
   "source": [
    "# Builtin data structures\n",
    "\n",
    "Vectors, lists, data frames "
   ]
  },
  {
   "cell_type": "code",
   "execution_count": null,
   "metadata": {
    "vscode": {
     "languageId": "r"
    }
   },
   "outputs": [],
   "source": [
    "# simple data structures\n",
    "1:10\n",
    "letters"
   ]
  },
  {
   "cell_type": "code",
   "execution_count": null,
   "metadata": {
    "vscode": {
     "languageId": "r"
    }
   },
   "outputs": [],
   "source": [
    "# lists\n",
    "list(a = 42, b = 1:5, c = sample(LETTERS, 10))"
   ]
  },
  {
   "cell_type": "code",
   "execution_count": null,
   "metadata": {
    "vscode": {
     "languageId": "r"
    }
   },
   "outputs": [],
   "source": [
    "# data frames\n",
    "head(mtcars)"
   ]
  },
  {
   "cell_type": "code",
   "execution_count": null,
   "metadata": {
    "vscode": {
     "languageId": "r"
    }
   },
   "outputs": [],
   "source": [
    "# tibbles\n",
    "suppressPackageStartupMessages({\n",
    "    library(dplyr)\n",
    "})\n",
    "\n",
    "mtcars %>%\n",
    "  group_by(cyl) %>%\n",
    "  summarise(mpg = mean(mpg))"
   ]
  },
  {
   "cell_type": "markdown",
   "metadata": {
    "vscode": {
     "languageId": "r"
    }
   },
   "source": [
    "This is done differently than the reference `IRkernel` in that it does not automatically `display()` everything, but rather only prints the last expression from the cell. If we want a fancy display, we can use the `display()` function from `IRdisplay` which is automatically available: "
   ]
  },
  {
   "cell_type": "code",
   "execution_count": null,
   "metadata": {
    "vscode": {
     "languageId": "r"
    }
   },
   "outputs": [],
   "source": [
    "display(1:10)\n",
    "display(list(a = 42, b = 1:5, c = sample(LETTERS, 10)))\n",
    "display(head(mtcars))"
   ]
  },
  {
   "cell_type": "markdown",
   "metadata": {},
   "source": [
    "# plots"
   ]
  },
  {
   "cell_type": "code",
   "execution_count": null,
   "metadata": {
    "vscode": {
     "languageId": "r"
    }
   },
   "outputs": [],
   "source": [
    "# base graphics\n",
    "boxplot(count ~ spray, data = InsectSprays, col = \"lightgray\")"
   ]
  },
  {
   "cell_type": "code",
   "execution_count": null,
   "metadata": {
    "vscode": {
     "languageId": "r"
    }
   },
   "outputs": [],
   "source": [
    "# ggplot2\n",
    "library(ggplot2)\n",
    "\n",
    "ggplot(mpg, aes(displ, hwy, colour = class)) + \n",
    "  geom_point()"
   ]
  },
  {
   "cell_type": "markdown",
   "metadata": {},
   "source": [
    "# html widgets"
   ]
  },
  {
   "cell_type": "code",
   "execution_count": null,
   "metadata": {
    "vscode": {
     "languageId": "r"
    }
   },
   "outputs": [],
   "source": [
    "suppressPackageStartupMessages({\n",
    "    library(htmltools)\n",
    "    library(plotly)\n",
    "})\n",
    "\n",
    "tags <- tagList(\n",
    "  plot_ly(diamonds, x = ~carat, height = 200),\n",
    "  plot_ly(diamonds, x = ~price, height = 200)\n",
    ")\n",
    "\n",
    "# auto printing does not work \n",
    "tags"
   ]
  },
  {
   "cell_type": "code",
   "execution_count": null,
   "metadata": {
    "vscode": {
     "languageId": "r"
    }
   },
   "outputs": [],
   "source": [
    "# but display is fine\n",
    "display(tags)"
   ]
  }
 ],
 "metadata": {
  "kernelspec": {
   "display_name": "R 4.3.1 (xr)",
   "language": "R",
   "name": "xr"
  },
  "language_info": {
   "codemirror_mode": "",
   "file_extension": "R",
   "mimetype": "text/x-R",
   "name": "R",
   "nbconvert_exporter": "",
   "pygments_lexer": "",
   "version": "4.3.1"
  }
 },
 "nbformat": 4,
 "nbformat_minor": 4
}
